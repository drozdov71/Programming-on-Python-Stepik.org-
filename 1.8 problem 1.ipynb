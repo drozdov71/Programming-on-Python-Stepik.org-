{
 "cells": [
  {
   "cell_type": "code",
   "execution_count": null,
   "metadata": {},
   "outputs": [],
   "source": [
    "# \n",
    "\n",
    "# Напишите программу:\n",
    "# Тимофей обычно спит ночью X часов и устраивает себе днем тихий час на Y минут. \n",
    "# Определите, сколько всего минут Тимофей спит в сутки.\n",
    "\n",
    "a = int(input())\n",
    "b = int(input())\n",
    "c = a*60 + b\n",
    "print(c)"
   ]
  }
 ],
 "metadata": {
  "kernelspec": {
   "display_name": "Python 3",
   "language": "python",
   "name": "python3"
  },
  "language_info": {
   "codemirror_mode": {
    "name": "ipython",
    "version": 3
   },
   "file_extension": ".py",
   "mimetype": "text/x-python",
   "name": "python",
   "nbconvert_exporter": "python",
   "pygments_lexer": "ipython3",
   "version": "3.7.4"
  }
 },
 "nbformat": 4,
 "nbformat_minor": 2
}
