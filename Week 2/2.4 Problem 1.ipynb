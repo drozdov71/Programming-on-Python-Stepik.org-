{
 "cells": [
  {
   "cell_type": "code",
   "execution_count": null,
   "metadata": {},
   "outputs": [],
   "source": [
    "# GC-состав является важной характеристикой геномных последовательностей и определяется как \n",
    "# процентное соотношение суммы всех гуанинов и цитозинов к общему числу нуклеиновых оснований в геномной \n",
    "# последовательности.\n",
    "# Напишите программу, которая вычисляет процентное содержание символов G (гуанин) и C (цитозин) \n",
    "# в введенной строке (программа не должна зависеть от регистра вводимых символов).\n",
    "# Например, в строке \"acggtgttat\" процентное содержание символов G и C равно 40.0 \n",
    "# где 4 -- это количество символов G и C,  а 10 -- это длина строки.\n",
    "gen = input()\n",
    "l = len(gen)\n",
    "c = 0\n",
    "for g in gen:\n",
    "    if (g == 'g' or g =='G') or (g == 'c' or g =='C'):\n",
    "        c = c+1\n",
    "print(c*100/l)"
   ]
  }
 ],
 "metadata": {
  "kernelspec": {
   "display_name": "Python 3",
   "language": "python",
   "name": "python3"
  },
  "language_info": {
   "codemirror_mode": {
    "name": "ipython",
    "version": 3
   },
   "file_extension": ".py",
   "mimetype": "text/x-python",
   "name": "python",
   "nbconvert_exporter": "python",
   "pygments_lexer": "ipython3",
   "version": "3.7.4"
  }
 },
 "nbformat": 4,
 "nbformat_minor": 2
}
