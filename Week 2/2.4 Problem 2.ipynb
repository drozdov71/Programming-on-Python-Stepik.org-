{
 "cells": [
  {
   "cell_type": "code",
   "execution_count": null,
   "metadata": {},
   "outputs": [],
   "source": [
    "# Узнав, что ДНК не является случайной строкой, только что поступившие в Институт биоинформатики \n",
    "# студенты группы информатиков предложили использовать алгоритм сжатия, который сжимает повторяющиеся символы \n",
    "# в строке.\n",
    "# Кодирование осуществляется следующим образом:\n",
    "# s = 'aaaabbсaa' преобразуется в 'a4b2с1a2', то есть группы одинаковых символов исходной строки заменяются \n",
    "# на этот символ и количество его повторений в этой позиции строки.\n",
    "# Напишите программу, которая считывает строку, кодирует её предложенным алгоритмом\n",
    "# и выводит закодированную последовательность на стандартный вывод. Кодирование должно учитывать регистр символов.\n",
    "s = input()\n",
    "l =len(s)\n",
    "c = 1\n",
    "s = s+'0'\n",
    "for i in range(l):\n",
    "    if s[i]==s[i+1]:\n",
    "        c += 1\n",
    "    else:\n",
    "        print(s[i]+str(c), end='')\n",
    "        c = 1"
   ]
  }
 ],
 "metadata": {
  "kernelspec": {
   "display_name": "Python 3",
   "language": "python",
   "name": "python3"
  },
  "language_info": {
   "codemirror_mode": {
    "name": "ipython",
    "version": 3
   },
   "file_extension": ".py",
   "mimetype": "text/x-python",
   "name": "python",
   "nbconvert_exporter": "python",
   "pygments_lexer": "ipython3",
   "version": "3.7.4"
  }
 },
 "nbformat": 4,
 "nbformat_minor": 2
}
