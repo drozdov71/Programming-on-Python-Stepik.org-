{
 "cells": [
  {
   "cell_type": "code",
   "execution_count": null,
   "metadata": {},
   "outputs": [],
   "source": [
    "# Напишите программу, на вход которой подаётся список чисел одной строкой. Программа должна для каждого элемента \n",
    "# этого списка вывести сумму двух его соседей. Для элементов списка, являющихся крайними, одним из соседей \n",
    "# считается элемент, находящий на противоположном конце этого списка. Например, если на вход подаётся список \n",
    "# \"1 3 5 6 10\", то на выход ожидается список \"13 6 9 15 7\" (без кавычек).\n",
    "# Если на вход пришло только одно число, надо вывести его же.\n",
    "# Вывод должен содержать одну строку с числами нового списка, разделёнными пробелом.\n",
    "a = [int(i) for i in input().split()]\n",
    "if len(a) == 1:\n",
    "    print(*a)\n",
    "else:\n",
    "    for i in range(len(a)):\n",
    "        print(a[i-1]+a[(i+1)-len(a)],end=' ')"
   ]
  }
 ],
 "metadata": {
  "kernelspec": {
   "display_name": "Python 3",
   "language": "python",
   "name": "python3"
  },
  "language_info": {
   "codemirror_mode": {
    "name": "ipython",
    "version": 3
   },
   "file_extension": ".py",
   "mimetype": "text/x-python",
   "name": "python",
   "nbconvert_exporter": "python",
   "pygments_lexer": "ipython3",
   "version": "3.7.4"
  }
 },
 "nbformat": 4,
 "nbformat_minor": 2
}
