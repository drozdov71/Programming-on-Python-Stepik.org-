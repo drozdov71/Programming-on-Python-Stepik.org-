{
 "cells": [
  {
   "cell_type": "code",
   "execution_count": null,
   "metadata": {},
   "outputs": [],
   "source": [
    "# Напишите программу, которая считывает с клавиатуры два числа a и b, считает и выводит на консоль \n",
    "# среднее арифметическое всех чисел из отрезка [a;b], которые делятся на 3.\n",
    "# В приведенном ниже примере среднее арифметическое считается для чисел на отрезке [−5;12]. \n",
    "# Всего чисел, делящихся на 3, на этом отрезке 6: −3,0,3,6,9,12. Их среднее арифметическое равно 4.5\n",
    "# На вход программе подаются интервалы, внутри которых всегда есть хотя бы одно число, которое делится на 3.\n",
    "a = int(input())\n",
    "b = int(input())\n",
    "s = 0 # для суммы\n",
    "k = 0 # для количества\n",
    "for i in range(a, b+1):\n",
    "    if i % 3 ==0:\n",
    "        s = s+i # находим сумму\n",
    "        k = k+1 # находим количество\n",
    "print(s/k)"
   ]
  }
 ],
 "metadata": {
  "kernelspec": {
   "display_name": "Python 3",
   "language": "python",
   "name": "python3"
  },
  "language_info": {
   "codemirror_mode": {
    "name": "ipython",
    "version": 3
   },
   "file_extension": ".py",
   "mimetype": "text/x-python",
   "name": "python",
   "nbconvert_exporter": "python",
   "pygments_lexer": "ipython3",
   "version": "3.7.4"
  }
 },
 "nbformat": 4,
 "nbformat_minor": 2
}
