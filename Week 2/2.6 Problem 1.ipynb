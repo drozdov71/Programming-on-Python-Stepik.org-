{
 "cells": [
  {
   "cell_type": "code",
   "execution_count": null,
   "metadata": {},
   "outputs": [],
   "source": [
    "# Напишите программу, которая считывает с консоли числа (по одному в строке) до тех пор, пока \n",
    "# сумма введённых чисел не будет равна 0 и сразу после этого выводит сумму квадратов всех считанных чисел.\n",
    "# Гарантируется, что в какой-то момент сумма введённых чисел окажется равной 0, после этого \n",
    "# считывание продолжать не нужно.\n",
    "# В примере мы считываем числа 1, -3, 5, -6, -10, 13; в этот момент замечаем, что сумма этих чисел равна нулю \n",
    "# и выводим сумму их квадратов, не обращая внимания на то, что остались ещё не прочитанные значения.\n",
    "a = [int(input())]\n",
    "while sum(a) !=0:\n",
    "    a.append(int(input()))\n",
    "print(sum([i*i for i in a]))"
   ]
  }
 ],
 "metadata": {
  "kernelspec": {
   "display_name": "Python 3",
   "language": "python",
   "name": "python3"
  },
  "language_info": {
   "codemirror_mode": {
    "name": "ipython",
    "version": 3
   },
   "file_extension": ".py",
   "mimetype": "text/x-python",
   "name": "python",
   "nbconvert_exporter": "python",
   "pygments_lexer": "ipython3",
   "version": "3.7.4"
  }
 },
 "nbformat": 4,
 "nbformat_minor": 2
}
