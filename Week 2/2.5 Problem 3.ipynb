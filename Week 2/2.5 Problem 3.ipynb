{
 "cells": [
  {
   "cell_type": "code",
   "execution_count": null,
   "metadata": {},
   "outputs": [],
   "source": [
    "# Напишите программу, которая принимает на вход список чисел в одной строке и выводит на экран в одну строку \n",
    "# значения, которые повторяются в нём более одного раза.\n",
    "# Для решения задачи может пригодиться метод sort списка.\n",
    "# Выводимые числа не должны повторяться, порядок их вывода может быть произвольным.\n",
    "a = [int(i) for i in input().split()]\n",
    "for i in set(a):\n",
    "    if a.count(i)>1:\n",
    "        print(i, end = ' ')"
   ]
  }
 ],
 "metadata": {
  "kernelspec": {
   "display_name": "Python 3",
   "language": "python",
   "name": "python3"
  },
  "language_info": {
   "codemirror_mode": {
    "name": "ipython",
    "version": 3
   },
   "file_extension": ".py",
   "mimetype": "text/x-python",
   "name": "python",
   "nbconvert_exporter": "python",
   "pygments_lexer": "ipython3",
   "version": "3.7.4"
  }
 },
 "nbformat": 4,
 "nbformat_minor": 2
}
