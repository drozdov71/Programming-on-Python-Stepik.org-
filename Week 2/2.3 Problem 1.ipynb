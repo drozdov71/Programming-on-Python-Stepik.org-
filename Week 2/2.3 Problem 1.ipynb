{
 "cells": [
  {
   "cell_type": "code",
   "execution_count": null,
   "metadata": {},
   "outputs": [],
   "source": [
    "# Когда Павел учился в школе, он запоминал таблицу умножения прямоугольными блоками. \n",
    "# Для тренировок ему бы очень пригодилась программа, которая показывала бы блок таблицы умножения.\n",
    "\n",
    "# Напишите программу, на вход которой даются четыре числа a a a, b b b, c c c и d d d, каждое в своей строке. \n",
    "# Программа должна вывести фрагмент таблицы умножения для всех чисел отрезка [a;b] [a; b] [a;b] на все числа \n",
    "# отрезка [c;d] [c;d] [c;d].\n",
    "\n",
    "# Числа a, b, c и d являются натуральными и не превосходят 10, a≤b a \\le b a≤b, c≤d c \\le d c≤d.\n",
    "\n",
    "# Следуйте формату вывода из примера, для разделения элементов внутри строки используйте '\\t' — символ табуляции.\n",
    "# Заметьте, что левым столбцом и верхней строкой выводятся сами числа из заданных отрезков — заголовочные столбец \n",
    "# и строка таблицы.\n",
    "\n",
    "a = int(input())\n",
    "b = int(input())\n",
    "c = int(input())\n",
    "d = int(input())\n",
    "for x in range(c,d+1):\n",
    "    print('\\t', x, end='')\n",
    "for y in range(a,b+1):\n",
    "    print('\\n', y, end='')\n",
    "    for x in range(c,d+1):\n",
    "        print('\\t', x*y, end='')"
   ]
  }
 ],
 "metadata": {
  "kernelspec": {
   "display_name": "Python 3",
   "language": "python",
   "name": "python3"
  },
  "language_info": {
   "codemirror_mode": {
    "name": "ipython",
    "version": 3
   },
   "file_extension": ".py",
   "mimetype": "text/x-python",
   "name": "python",
   "nbconvert_exporter": "python",
   "pygments_lexer": "ipython3",
   "version": "3.7.4"
  }
 },
 "nbformat": 4,
 "nbformat_minor": 2
}
